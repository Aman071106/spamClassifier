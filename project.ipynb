{
 "cells": [
  {
   "cell_type": "markdown",
   "id": "e222766c",
   "metadata": {},
   "source": [
    "### 🤖 Spam classifier using multiple **NLP** techniques 📧"
   ]
  },
  {
   "cell_type": "code",
   "execution_count": null,
   "id": "3434fbb9",
   "metadata": {},
   "outputs": [],
   "source": []
  },
  {
   "cell_type": "code",
   "execution_count": null,
   "id": "d596a3a1",
   "metadata": {},
   "outputs": [],
   "source": []
  },
  {
   "cell_type": "code",
   "execution_count": null,
   "id": "e3bee034",
   "metadata": {},
   "outputs": [],
   "source": []
  },
  {
   "cell_type": "code",
   "execution_count": null,
   "id": "f60b6a0c",
   "metadata": {},
   "outputs": [],
   "source": []
  }
 ],
 "metadata": {
  "language_info": {
   "name": "python"
  }
 },
 "nbformat": 4,
 "nbformat_minor": 5
}
